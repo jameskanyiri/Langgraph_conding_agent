{
 "cells": [
  {
   "cell_type": "code",
   "execution_count": 1,
   "id": "f39c9143",
   "metadata": {},
   "outputs": [],
   "source": [
    "def combine_strings(str1: str, str2: str) -> str:\n",
    "    return str1 + str2"
   ]
  },
  {
   "cell_type": "code",
   "execution_count": 2,
   "id": "f83c0ab2",
   "metadata": {},
   "outputs": [
    {
     "data": {
      "text/plain": [
       "'HelloWorld'"
      ]
     },
     "execution_count": 2,
     "metadata": {},
     "output_type": "execute_result"
    }
   ],
   "source": [
    "combine_strings(\"Hello\", \"World\")"
   ]
  },
  {
   "cell_type": "code",
   "execution_count": 3,
   "id": "7db0493a",
   "metadata": {},
   "outputs": [],
   "source": [
    "def combine_strings_with_space(str1: str, str2: str) -> str:\n",
    "    return str1 + \" \" + str2"
   ]
  },
  {
   "cell_type": "code",
   "execution_count": 4,
   "id": "69da02ec",
   "metadata": {},
   "outputs": [
    {
     "data": {
      "text/plain": [
       "'Hello World'"
      ]
     },
     "execution_count": 4,
     "metadata": {},
     "output_type": "execute_result"
    }
   ],
   "source": [
    "combine_strings_with_space(\"Hello\", \"World\")"
   ]
  },
  {
   "cell_type": "code",
   "execution_count": 5,
   "id": "275f36ed",
   "metadata": {},
   "outputs": [],
   "source": [
    "def print_hello_world( name: str):\n",
    "    print(f\"Hello\", name)"
   ]
  },
  {
   "cell_type": "code",
   "execution_count": 6,
   "id": "5611a8c8",
   "metadata": {},
   "outputs": [
    {
     "name": "stdout",
     "output_type": "stream",
     "text": [
      "Hello John\n"
     ]
    }
   ],
   "source": [
    "print_hello_world(\"John\")"
   ]
  },
  {
   "cell_type": "code",
   "execution_count": null,
   "id": "02ccfa0a",
   "metadata": {},
   "outputs": [],
   "source": []
  }
 ],
 "metadata": {
  "kernelspec": {
   "display_name": ".venv",
   "language": "python",
   "name": "python3"
  },
  "language_info": {
   "codemirror_mode": {
    "name": "ipython",
    "version": 3
   },
   "file_extension": ".py",
   "mimetype": "text/x-python",
   "name": "python",
   "nbconvert_exporter": "python",
   "pygments_lexer": "ipython3",
   "version": "3.13.3"
  }
 },
 "nbformat": 4,
 "nbformat_minor": 5
}
